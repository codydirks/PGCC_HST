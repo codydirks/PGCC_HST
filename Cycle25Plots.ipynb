{
 "cells": [
  {
   "cell_type": "code",
   "execution_count": 3,
   "metadata": {},
   "outputs": [],
   "source": [
    "import matplotlib.pyplot as plt\n",
    "from matplotlib.patches import Ellipse\n",
    "import matplotlib.ticker as ticker\n",
    "import numpy as np\n",
    "from astropy.io import fits\n",
    "from astropy.coordinates import SkyCoord\n",
    "import astropy.units as u\n",
    "from queries import Simbad\n",
    "import os\n",
    "import time\n",
    "\n",
    "% matplotlib inline\n",
    "#plt.style.use('sm')\n",
    "top_path='/DataDisk/datafiles/PGCC_HST/'\n",
    "#top_path='/Users/codydirks/PGCC/'\n",
    "\n",
    "#Returns angular separation between two Ra/Dec coordinates in degrees\n",
    "def get_ang_sep(ra1,dec1,ra2,dec2):\n",
    "    ra1_rad=ra1*np.pi/180.\n",
    "    dec1_rad=dec1*np.pi/180.\n",
    "    ra2_rad=ra2*np.pi/180.\n",
    "    dec2_rad=dec2*np.pi/180.\n",
    "\n",
    "    del_ra=ra2_rad-ra1_rad\n",
    "    del_ras=np.sin(del_ra)\n",
    "    del_rac=np.cos(del_ra)\n",
    "    dec1s=np.sin(dec1_rad)\n",
    "    dec2s=np.sin(dec2_rad)\n",
    "    dec1c=np.cos(dec1_rad)\n",
    "    dec2c=np.cos(dec2_rad)\n",
    "\n",
    "    return (180./np.pi)*np.arctan(np.sqrt((dec2c**2)*(del_ras**2)+(dec1c*dec2s-dec1s*dec2c*del_rac)**2)/(dec1s*dec2s+dec1c*dec2c*del_rac))\n",
    "\n",
    "\n",
    "\n",
    "def get_r_dist(pgcc,sightline_ra,sightline_dec):\n",
    "    angle=pgcc['gau_position_angle']\n",
    "    sin=np.sin(-angle)\n",
    "    cos=np.cos(-angle)\n",
    "    a=pgcc['gau_major_axis']/2.\n",
    "    b=pgcc['gau_minor_axis']/2.\n",
    "    gal=SkyCoord(ra=sightline_ra*u.degree,dec=sightline_dec*u.degree,frame='icrs').galactic\n",
    "    del_l=60.*(gal.l.value-pgcc['glon'])\n",
    "    del_b=60.*(gal.b.value-pgcc['glat'])\n",
    "    return np.sqrt((((cos*del_l+sin*del_b)/a)**2+((sin*del_l-cos*del_b)/b)**2))"
   ]
  },
  {
   "cell_type": "code",
   "execution_count": 1,
   "metadata": {},
   "outputs": [
    {
     "ename": "NameError",
     "evalue": "name 'plt' is not defined",
     "output_type": "error",
     "traceback": [
      "\u001b[0;31m---------------------------------------------------------------------------\u001b[0m",
      "\u001b[0;31mNameError\u001b[0m                                 Traceback (most recent call last)",
      "\u001b[0;32m<ipython-input-1-7d495a435bbb>\u001b[0m in \u001b[0;36m<module>\u001b[0;34m()\u001b[0m\n\u001b[1;32m      1\u001b[0m \u001b[0mspecies\u001b[0m\u001b[0;34m=\u001b[0m\u001b[0;34m[\u001b[0m\u001b[0;34m'C~\\\\textsc{i}'\u001b[0m\u001b[0;34m,\u001b[0m\u001b[0;34m'Cl~\\\\textsc{i}'\u001b[0m\u001b[0;34m,\u001b[0m\u001b[0;34m'O~\\\\textsc{i}'\u001b[0m\u001b[0;34m,\u001b[0m\u001b[0;34m'CO'\u001b[0m\u001b[0;34m]\u001b[0m\u001b[0;34m\u001b[0m\u001b[0m\n\u001b[1;32m      2\u001b[0m \u001b[0mcen_wavs\u001b[0m\u001b[0;34m=\u001b[0m\u001b[0;34m[\u001b[0m\u001b[0;36m1280.1353\u001b[0m\u001b[0;34m,\u001b[0m\u001b[0;36m1347.2396\u001b[0m\u001b[0;34m,\u001b[0m\u001b[0;36m1355.5977\u001b[0m\u001b[0;34m,\u001b[0m\u001b[0;36m1344.186\u001b[0m\u001b[0;34m]\u001b[0m\u001b[0;34m\u001b[0m\u001b[0m\n\u001b[0;32m----> 3\u001b[0;31m \u001b[0mf\u001b[0m\u001b[0;34m,\u001b[0m\u001b[0msubplts\u001b[0m\u001b[0;34m=\u001b[0m\u001b[0mplt\u001b[0m\u001b[0;34m.\u001b[0m\u001b[0msubplots\u001b[0m\u001b[0;34m(\u001b[0m\u001b[0;36m4\u001b[0m\u001b[0;34m,\u001b[0m\u001b[0msharex\u001b[0m\u001b[0;34m=\u001b[0m\u001b[0mTrue\u001b[0m\u001b[0;34m,\u001b[0m\u001b[0msharey\u001b[0m\u001b[0;34m=\u001b[0m\u001b[0mTrue\u001b[0m\u001b[0;34m,\u001b[0m\u001b[0mfigsize\u001b[0m\u001b[0;34m=\u001b[0m\u001b[0;34m(\u001b[0m\u001b[0;36m12\u001b[0m\u001b[0;34m,\u001b[0m\u001b[0;36m9\u001b[0m\u001b[0;34m)\u001b[0m\u001b[0;34m)\u001b[0m\u001b[0;34m\u001b[0m\u001b[0m\n\u001b[0m\u001b[1;32m      4\u001b[0m \u001b[0mf\u001b[0m\u001b[0;34m.\u001b[0m\u001b[0mtext\u001b[0m\u001b[0;34m(\u001b[0m\u001b[0;36m0.05\u001b[0m\u001b[0;34m,\u001b[0m\u001b[0;36m0.5\u001b[0m\u001b[0;34m,\u001b[0m\u001b[0;34m'Relative Intensity'\u001b[0m\u001b[0;34m,\u001b[0m \u001b[0mrotation\u001b[0m\u001b[0;34m=\u001b[0m\u001b[0;36m90\u001b[0m\u001b[0;34m,\u001b[0m\u001b[0mfontsize\u001b[0m\u001b[0;34m=\u001b[0m\u001b[0;36m30\u001b[0m\u001b[0;34m,\u001b[0m\u001b[0mha\u001b[0m\u001b[0;34m=\u001b[0m\u001b[0;34m'center'\u001b[0m\u001b[0;34m,\u001b[0m\u001b[0mva\u001b[0m\u001b[0;34m=\u001b[0m\u001b[0;34m'center'\u001b[0m\u001b[0;34m)\u001b[0m\u001b[0;34m\u001b[0m\u001b[0m\n\u001b[1;32m      5\u001b[0m \u001b[0myMajorLocator\u001b[0m\u001b[0;34m=\u001b[0m\u001b[0mticker\u001b[0m\u001b[0;34m.\u001b[0m\u001b[0mMultipleLocator\u001b[0m\u001b[0;34m(\u001b[0m\u001b[0;36m0.5\u001b[0m\u001b[0;34m)\u001b[0m\u001b[0;34m\u001b[0m\u001b[0m\n",
      "\u001b[0;31mNameError\u001b[0m: name 'plt' is not defined"
     ]
    }
   ],
   "source": [
    "species=['C~\\\\textsc{i}','Cl~\\\\textsc{i}','O~\\\\textsc{i}','CO']\n",
    "cen_wavs=[1280.1353,1347.2396,1355.5977,1344.186]\n",
    "f,subplts=plt.subplots(4,sharex=True,sharey=True,figsize=(12,9))\n",
    "f.text(0.05,0.5,'Relative Intensity', rotation=90,fontsize=30,ha='center',va='center')\n",
    "yMajorLocator=ticker.MultipleLocator(0.5)\n",
    "xspac=50\n",
    "xMajorLocator=ticker.MultipleLocator(xspac)\n",
    "for cen_wav in cen_wavs:\n",
    "    idx=cen_wavs.index(cen_wav)\n",
    "    fl=open(top_path+'x1d_files/HD208440/E140H/HD208440_'+str(cen_wav)+'.dat')\n",
    "    wavs=[]\n",
    "    flxs=[]\n",
    "    for line in fl:\n",
    "        wav,flx=line.strip().split()\n",
    "        wavs.append(float(wav))\n",
    "        flxs.append(float(flx))\n",
    "\n",
    "    vels=(300000./cen_wav)*(np.array(wavs)-cen_wav)\n",
    "    subplt=subplts[idx]\n",
    "    subplt.plot(vels,flxs,'b-',lw=1)\n",
    "    subplt.text(1.01,0.5,species[idx]+'\\n'+str(int(cen_wav)),transform=subplt.transAxes,fontsize=25,ha='left',va='center')\n",
    "    \n",
    "    subplt.set_xlim(-100,150)\n",
    "    for vline in np.arange(-100,150,10):\n",
    "        subplt.axvline(vline,0,1,linestyle='--',color='k',linewidth=0.5,alpha=0.5)\n",
    "    subplt.yaxis.set_major_locator(yMajorLocator)\n",
    "    subplt.xaxis.set_major_locator(xMajorLocator)\n",
    "    \n",
    "subplts[3].set_xlabel('Heliocentric Velocity (km s$^{-1}$)',fontsize=30)\n",
    "plt.savefig('/DataDisk/Dropbox/HSTProposal/Cycle25/PGCC/hd208440_spec.pdf')"
   ]
  },
  {
   "cell_type": "code",
   "execution_count": null,
   "metadata": {
    "collapsed": true
   },
   "outputs": [],
   "source": []
  }
 ],
 "metadata": {
  "anaconda-cloud": {},
  "kernelspec": {
   "display_name": "Python [astroconda]",
   "language": "python",
   "name": "Python [astroconda]"
  },
  "language_info": {
   "codemirror_mode": {
    "name": "ipython",
    "version": 2
   },
   "file_extension": ".py",
   "mimetype": "text/x-python",
   "name": "python",
   "nbconvert_exporter": "python",
   "pygments_lexer": "ipython2",
   "version": "2.7.12"
  }
 },
 "nbformat": 4,
 "nbformat_minor": 2
}
