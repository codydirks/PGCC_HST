{
 "cells": [
  {
   "cell_type": "code",
   "execution_count": 1,
   "metadata": {
    "collapsed": true
   },
   "outputs": [],
   "source": [
    "import os\n",
    "from astropy.coordinates import SkyCoord\n",
    "from astropy.io import fits\n",
    "import astropy.units as u\n",
    "from queries import Simbad\n",
    "import numpy as np\n",
    "import matplotlib.pyplot as plt\n",
    "from matplotlib.patches import Ellipse\n",
    "import matplotlib.gridspec as gridspec\n",
    "from matplotlib.backends.backend_pdf import PdfPages\n",
    "import itertools\n",
    "% matplotlib inline\n",
    "x1d_dir='/DataDisk/datafiles/PGCC_HST/x1d_files/'\n",
    "\n",
    "# Returns the velocity shift necessary to convert Helio to LSR\n",
    "# i.e. returns (V_lsr - V_helio)\n",
    "def HelioToLSR(target_ra_deg, target_dec_deg):\n",
    "    Vsun=19.7\n",
    "    a0=271.0\n",
    "    d0=30.0\n",
    "    shift=Vsun*(np.cos(target_ra_deg-a0)*np.cos(a0)*np.cos(target_ra_deg)+np.sin(d0)*np.sin(target_dec_deg))\n",
    "    return shift\n",
    "\n",
    "\n",
    "#Returns angular separation between two Ra/Dec coordinates in degrees\n",
    "def get_ang_sep(ra1,dec1,ra2,dec2):\n",
    "    ra1_rad=ra1*np.pi/180.\n",
    "    dec1_rad=dec1*np.pi/180.\n",
    "    ra2_rad=ra2*np.pi/180.\n",
    "    dec2_rad=dec2*np.pi/180.\n",
    "\n",
    "    del_ra=ra2_rad-ra1_rad\n",
    "    del_ras=np.sin(del_ra)\n",
    "    del_rac=np.cos(del_ra)\n",
    "    dec1s=np.sin(dec1_rad)\n",
    "    dec2s=np.sin(dec2_rad)\n",
    "    dec1c=np.cos(dec1_rad)\n",
    "    dec2c=np.cos(dec2_rad)\n",
    "    arctan_arg=np.sqrt((dec2c**2)*(del_ras**2)+(dec1c*dec2s-dec1s*dec2c*del_rac)**2)/(dec1s*dec2s+dec1c*dec2c*del_rac)\n",
    "    if arctan_arg < 0:\n",
    "        arctan_arg = -arctan_arg\n",
    "    return (180./np.pi)*np.arctan(arctan_arg)\n",
    "\n",
    "class LineInfo(object):\n",
    "    def __init__(self,dat_line,err_line):\n",
    "        dat=dat_line.split()\n",
    "        self.ion=dat[0]\n",
    "        self.n=float(dat[1])\n",
    "        self.b=float(dat[2])\n",
    "        self.wav=float(dat[3])\n",
    "        self.v=float(dat[4])\n",
    "        self.n_flag=int(dat[5])\n",
    "        self.b_flag=int(dat[6])\n",
    "        self.v_flag=int(dat[7])\n",
    "        self.eqw=float(dat[8])\n",
    "        self.tot_eqw=float(dat[9])\n",
    "        \n",
    "        errs=err_line.split()\n",
    "        self.n_err=float(errs[0])\n",
    "        self.b_err=float(errs[1])\n",
    "        self.v_err=float(errs[2])\n",
    "        \n",
    "    def __repr__(self):\n",
    "        return self.ion\n",
    "    def __str__(self):\n",
    "        return self.ion"
   ]
  },
  {
   "cell_type": "code",
   "execution_count": 2,
   "metadata": {
    "collapsed": true
   },
   "outputs": [],
   "source": [
    "hdulist=fits.open('/DataDisk/datafiles/PGCC_HST/HFI_PCCS_GCC_R2.02.fits')\n",
    "pgccs=hdulist[1].data"
   ]
  },
  {
   "cell_type": "code",
   "execution_count": 3,
   "metadata": {
    "collapsed": false
   },
   "outputs": [],
   "source": [
    "folders=[x for x in os.listdir(x1d_dir) if (os.path.isdir(x1d_dir+x) and x.startswith('.')==False)]                \n",
    "ras=[]\n",
    "decs=[]\n",
    "nearest_pgccs=[]\n",
    "for folder in folders:\n",
    "    ra,dec=Simbad.Position(folder)\n",
    "    ras.append(ra)\n",
    "    decs.append(dec)\n",
    "    nearest=100\n",
    "    nearest_pgcc=[]\n",
    "    for pgcc in pgccs:\n",
    "        if abs(pgcc['ra']-ra.value)<1 and abs(pgcc['dec']-dec.value)<1:\n",
    "            ang_sep=get_ang_sep(ra.value,dec.value,pgcc['ra'],pgcc['dec'])\n",
    "            if ang_sep<1.0:\n",
    "                nearest=ang_sep\n",
    "                nearest_pgcc.append(pgcc)\n",
    "    nearest_pgccs.append(nearest_pgcc)"
   ]
  },
  {
   "cell_type": "code",
   "execution_count": 53,
   "metadata": {
    "collapsed": true
   },
   "outputs": [],
   "source": [
    "coords=SkyCoord(ra=ras,dec=decs).galactic\n",
    "ls=coords.l.value\n",
    "bs=coords.b.value"
   ]
  },
  {
   "cell_type": "code",
   "execution_count": 54,
   "metadata": {
    "collapsed": true
   },
   "outputs": [],
   "source": [
    "sightlines=zip(folders,ls,bs,nearest_pgccs)"
   ]
  },
  {
   "cell_type": "code",
   "execution_count": 39,
   "metadata": {
    "collapsed": false
   },
   "outputs": [],
   "source": [
    "cfa_path='/DataDisk/datafiles/PGCC_HST/CO/Columbia-CfA/COGAL_all_raw.fits'\n",
    "hdulist=fits.open(cfa_path)\n",
    "cfa_data=hdulist[0].data\n",
    "hdr=hdulist[0].header"
   ]
  },
  {
   "cell_type": "code",
   "execution_count": 61,
   "metadata": {
    "collapsed": false,
    "scrolled": false
   },
   "outputs": [],
   "source": [
    "cfa_data[np.isnan(cfa_data)]=0\n",
    "vel_width=10.\n",
    "vels=[hdr['CRVAL1']+i*hdr['CDELT1'] for i in range(hdr['NAXIS1'])]\n",
    "glons=[hdr['CRVAL2']+i*hdr['CDELT2'] for i in range(hdr['NAXIS2'])]\n",
    "#glons=[x if x>0.0 else x+360. for x in glons]\n",
    "glats=[hdr['CRVAL3']+i*hdr['CDELT3'] for i in range(-hdr['NAXIS3']/2+1,hdr['NAXIS3']/2+1)]\n",
    "good_data=['HD23180','HD24534','HD101436','HD114886','HD148937','HD152249','HDE303308','CPD-592603']\n",
    "fl='test.pdf'\n",
    "pdf=PdfPages(fl)\n",
    "for sl in [x for x in sightlines if x[0] in good_data]:\n",
    "    results_files=[x for x in os.listdir(x1d_dir+sl[0]+'/E140H') if x.startswith('co') and x.endswith('_results.txt')]\n",
    "    if len(results_files)>0:\n",
    "        f=open(x1d_dir+sl[0]+'/E140H/'+results_files[0])\n",
    "        lines=[x.strip() for x in f.read().split('\\n')]\n",
    "        for i in range(len(lines)):\n",
    "            if lines[i].startswith('CO'):\n",
    "                line_data=LineInfo(lines[i],lines[i+1])\n",
    "                helio_vel=line_data.v\n",
    "                break\n",
    "    else:\n",
    "        helio_vel=0.\n",
    "    \n",
    "    cen_l=sl[1]\n",
    "    if cen_l > 180:\n",
    "        cen_l=cen_l-360\n",
    "    cen_b=sl[2]\n",
    "    icrs=SkyCoord(l=cen_l*u.degree,b=cen_b*u.degree, frame='galactic').icrs\n",
    "    vel=helio_vel+HelioToLSR(icrs.ra.value,icrs.dec.value)\n",
    "\n",
    "    min_vel=vel-vel_width\n",
    "    max_vel=vel+vel_width\n",
    "    min_vel_idx=min(range(len(vels)), key=lambda i: abs(vels[i]-min_vel))\n",
    "    max_vel_idx=min(range(len(vels)), key=lambda i: abs(vels[i]-max_vel))\n",
    "\n",
    "    # Isolate a box around the sightline\n",
    "    box=2.0\n",
    "    glon_idx=min(range(len(glons)),key=lambda i: abs(glons[i]-cen_l))\n",
    "    glat_idx=min(range(len(glats)),key=lambda i: abs(glats[i]-cen_b))\n",
    "    min_glon=min(range(len(glons)),key=lambda i: abs(glons[i]-(cen_l+box/2.)))\n",
    "    max_glon=min(range(len(glons)),key=lambda i: abs(glons[i]-(cen_l-box/2.)))\n",
    "    min_glat=min(range(len(glats)),key=lambda i: abs(glats[i]-(cen_b-box/2.)))\n",
    "    max_glat=min(range(len(glats)),key=lambda i: abs(glats[i]-(cen_b+box/2.)))\n",
    "    #print cfa_data[min_vel_idx:max_vel_idx,min_glon:max_glon,min_glat:max_glat]\n",
    "    dat=np.sum(cfa_data[min_glat:max_glat,min_glon:max_glon,min_vel_idx:max_vel_idx],axis=2)\n",
    "    dat=dat[::-1,:]\n",
    "\n",
    "    fig=plt.figure(3,figsize=(12,9))\n",
    "    fig.suptitle(sl[0],y=0.87,fontsize=24)\n",
    "    G=gridspec.GridSpec(5,4)\n",
    "    subplt1=plt.subplot(G[0:4,0:2])\n",
    "    subplt2=plt.subplot(G[4,0:2])\n",
    "    subplt3=plt.subplot(G[0:4,2:4])\n",
    "    subplt4=plt.subplot(G[4,2:4])\n",
    "    \n",
    "    cax=subplt1.imshow(dat,extent=[glons[min_glon],glons[max_glon],glats[min_glat],glats[max_glat]])\n",
    "    subplt1.plot(cen_l,cen_b, 'ro')\n",
    "    subplt2.plot(vels,cfa_data[glat_idx,glon_idx,:])\n",
    "    subplt2.set_title('Centered on CO Absorption velocity')\n",
    "    if helio_vel!=0:\n",
    "        subplt2.axvline(min_vel,0,1,linestyle='--',color='r')\n",
    "        subplt2.axvline(max_vel,0,1,linestyle='--',color='r')\n",
    "        \n",
    "    vel_at_peak=vels[np.argmax(cfa_data[glat_idx,glon_idx,:])]\n",
    "    min_vel=vel_at_peak-vel_width\n",
    "    max_vel=vel_at_peak+vel_width\n",
    "    min_vel_idx=min(range(len(vels)), key=lambda i: abs(vels[i]-min_vel))\n",
    "    max_vel_idx=min(range(len(vels)), key=lambda i: abs(vels[i]-max_vel))\n",
    "    dat=np.sum(cfa_data[min_glat:max_glat,min_glon:max_glon,min_vel_idx:max_vel_idx],axis=2)\n",
    "    dat=dat[::-1,:]\n",
    "    cax=subplt3.imshow(dat,extent=[glons[min_glon],glons[max_glon],glats[min_glat],glats[max_glat]])\n",
    "    subplt3.plot(cen_l,cen_b, 'ro')\n",
    "    subplt4.plot(vels,cfa_data[glat_idx,glon_idx,:])\n",
    "    subplt4.set_title('Centered on CO Emission Peak')\n",
    "    subplt4.axvline(min_vel,0,1,linestyle='--',color='r')\n",
    "    subplt4.axvline(max_vel,0,1,linestyle='--',color='r')\n",
    "    subplt3.set_yticklabels([])\n",
    "    subplt4.set_yticklabels([])\n",
    "    \n",
    "    for pgcc in sl[3]:\n",
    "        pgcc_glon=pgcc['glon']\n",
    "        if pgcc_glon>180.:\n",
    "            pgcc_glon=pgcc_glon-360.\n",
    "        pgcc_glat=pgcc['glat']\n",
    "        for i in range(1,4):\n",
    "            ell=Ellipse(xy=(pgcc_glon,pgcc_glat),width=i*pgcc['gau_major_axis']/60.,\n",
    "                        height=i*pgcc['gau_minor_axis']/60.,angle=(180./np.pi)*pgcc['gau_position_angle'])\n",
    "            ell.set_facecolor('w')\n",
    "            ell.set_alpha(0.6/i)\n",
    "            subplt1.add_patch(ell)\n",
    "            ell=Ellipse(xy=(pgcc_glon,pgcc_glat),width=i*pgcc['gau_major_axis']/60.,\n",
    "                        height=i*pgcc['gau_minor_axis']/60.,angle=(180./np.pi)*pgcc['gau_position_angle'])\n",
    "            ell.set_facecolor('w')\n",
    "            ell.set_alpha(0.6/i)\n",
    "            subplt3.add_patch(ell)\n",
    "    if helio_vel!=0:\n",
    "        pdf.savefig()\n",
    "    plt.cla()\n",
    "    plt.close()\n",
    "pdf.close()"
   ]
  },
  {
   "cell_type": "code",
   "execution_count": null,
   "metadata": {
    "collapsed": true
   },
   "outputs": [],
   "source": []
  }
 ],
 "metadata": {
  "kernelspec": {
   "display_name": "Python 2",
   "language": "python",
   "name": "python2"
  },
  "language_info": {
   "codemirror_mode": {
    "name": "ipython",
    "version": 2
   },
   "file_extension": ".py",
   "mimetype": "text/x-python",
   "name": "python",
   "nbconvert_exporter": "python",
   "pygments_lexer": "ipython2",
   "version": "2.7.10"
  }
 },
 "nbformat": 4,
 "nbformat_minor": 2
}
