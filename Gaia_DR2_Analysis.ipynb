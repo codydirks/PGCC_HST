{
 "cells": [
  {
   "cell_type": "code",
   "execution_count": 57,
   "metadata": {},
   "outputs": [],
   "source": [
    "import os\n",
    "import csv\n",
    "import pickle\n",
    "import numpy as np\n",
    "from astropy.io import fits\n",
    "from astropy.coordinates import SkyCoord\n",
    "from queries import Simbad\n",
    "from thesis_tools.utilities import calc_r_dist\n",
    "\n",
    "\n",
    "def get_ang_sep(ra1,dec1,ra2,dec2):\n",
    "    ra1_rad=ra1*np.pi/180.\n",
    "    dec1_rad=dec1*np.pi/180.\n",
    "    ra2_rad=ra2*np.pi/180.\n",
    "    dec2_rad=dec2*np.pi/180.\n",
    "\n",
    "    del_ra=ra2_rad-ra1_rad\n",
    "    del_ras=np.sin(del_ra)\n",
    "    del_rac=np.cos(del_ra)\n",
    "    dec1s=np.sin(dec1_rad)\n",
    "    dec2s=np.sin(dec2_rad)\n",
    "    dec1c=np.cos(dec1_rad)\n",
    "    dec2c=np.cos(dec2_rad)\n",
    "    arctan_arg=np.sqrt((dec2c**2)*(del_ras**2)+(dec1c*dec2s-dec1s*dec2c*del_rac)**2)/(dec1s*dec2s+dec1c*dec2c*del_rac)\n",
    "    if arctan_arg < 0:\n",
    "        arctan_arg = -arctan_arg\n",
    "    return (180./np.pi)*np.arctan(arctan_arg)\n",
    "\n",
    "x1d_dir='/Users/codydirks/PGCC/x1d_files/'"
   ]
  },
  {
   "cell_type": "code",
   "execution_count": 44,
   "metadata": {},
   "outputs": [],
   "source": [
    "with open('primary_sightlines.csv','rb') as csvfile:\n",
    "    inp=csv.reader(csvfile)\n",
    "    primary_sightlines=inp.next()\n",
    "    \n",
    "sightlines=[x for x in os.listdir(x1d_dir) if os.path.isdir(x1d_dir+x) and x.startswith('.')==False]\n",
    "\n",
    "pgcc_data=fits.open('/Users/codydirks/PGCC/HFI_PCCS_GCC_R2.02.fits')[1].data"
   ]
  },
  {
   "cell_type": "code",
   "execution_count": 12,
   "metadata": {},
   "outputs": [],
   "source": [
    "pgcc_results=[]\n",
    "for sightline in sightlines:\n",
    "    nearest_pgcc=[]\n",
    "    nearest=999\n",
    "    ra,dec=Simbad.Position(sightline)\n",
    "    galcoords=SkyCoord(ra=ra,dec=dec,frame='icrs').galactic\n",
    "    glon=galcoords.l.value\n",
    "    glat=galcoords.b.value\n",
    "    for pgcc in pgcc_data:\n",
    "        if abs(pgcc['glon']-glon)<1 and abs(pgcc['glat']-glat)<1:\n",
    "            angsep=get_ang_sep(pgcc['ra'],pgcc['dec'],ra.value,dec.value)\n",
    "            if angsep<nearest:\n",
    "                nearest=angsep\n",
    "                nearest_pgcc=pgcc\n",
    "    pgcc_results.append([[sightline,ra,dec],nearest_pgcc])"
   ]
  },
  {
   "cell_type": "code",
   "execution_count": 17,
   "metadata": {},
   "outputs": [
    {
     "data": {
      "text/plain": [
       "84"
      ]
     },
     "execution_count": 17,
     "metadata": {},
     "output_type": "execute_result"
    }
   ],
   "source": [
    "gaia_results=pickle.load(open('gaia_dr2_results.pkl','r'))\n",
    "gaia_results=[x for x in gaia_results if np.isnan(x[1][0])==False]"
   ]
  },
  {
   "cell_type": "code",
   "execution_count": 26,
   "metadata": {},
   "outputs": [
    {
     "data": {
      "text/plain": [
       "61"
      ]
     },
     "execution_count": 26,
     "metadata": {},
     "output_type": "execute_result"
    }
   ],
   "source": [
    "filt_pgcc_results=[x for x in pgcc_results if x[1]['dist']!=0.0]"
   ]
  },
  {
   "cell_type": "code",
   "execution_count": 73,
   "metadata": {},
   "outputs": [
    {
     "name": "stdout",
     "output_type": "stream",
     "text": [
      "  HD108002  8.52   830.0 1811.5\n",
      "  HD208440  1.23   990.0 1068.7\n",
      "   HD13268  3.41   800.0 1168.8\n"
     ]
    }
   ],
   "source": [
    "thres=1.\n",
    "\n",
    "gaia_sls=[x[0] for x in gaia_results]\n",
    "for [sl,ra,dec],pgcc in filt_pgcc_results:\n",
    "    if sl in gaia_sls:\n",
    "        gaia_data=[x for x in gaia_results if x[0]==sl][0]\n",
    "        plx,plx_err=gaia_data[1]\n",
    "        \n",
    "        if pgcc['dist']<0:\n",
    "            max_pgcc_dist=round(1000.*abs(pgcc['dist']),2)\n",
    "            min_pgcc_dist=0.\n",
    "        else:\n",
    "            max_pgcc_dist=round(1000*(pgcc['dist']+thres*pgcc['dist_sig']),2)\n",
    "            min_pgcc_dist=round(1000*(pgcc['dist']-thres*pgcc['dist_sig']),2)\n",
    "        \n",
    "        min_star_dist=round(1000./(plx+thres*plx_err),2)\n",
    "        max_star_dist=round(1000./(plx+thres*plx_err),2)\n",
    "        if max_star_dist<0:\n",
    "            max_star_dist=25000.\n",
    "        if max_pgcc_dist<min_star_dist and sl not in primary_sightlines:\n",
    "            ra,dec=Simbad.Position(sl)\n",
    "            print '{:>10}'.format(sl), '{:>5.2f}'.format(round(calc_r_dist(pgcc,ra.value,dec.value),2)),\n",
    "            print '{:>7.1f}'.format(max_pgcc_dist),'{:>6.1f}'.format(min_star_dist)"
   ]
  }
 ],
 "metadata": {
  "kernelspec": {
   "display_name": "Python 2",
   "language": "python",
   "name": "python2"
  },
  "language_info": {
   "codemirror_mode": {
    "name": "ipython",
    "version": 2
   },
   "file_extension": ".py",
   "mimetype": "text/x-python",
   "name": "python",
   "nbconvert_exporter": "python",
   "pygments_lexer": "ipython2",
   "version": "2.7.14"
  }
 },
 "nbformat": 4,
 "nbformat_minor": 2
}
