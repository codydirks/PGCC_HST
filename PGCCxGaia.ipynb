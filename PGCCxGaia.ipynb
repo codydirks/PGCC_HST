{
 "cells": [
  {
   "cell_type": "code",
   "execution_count": 26,
   "metadata": {},
   "outputs": [],
   "source": [
    "import numpy as np\n",
    "from astroquery.gaia import Gaia\n",
    "from astropy.coordinates import SkyCoord\n",
    "from astropy.io import fits\n",
    "from IPython.display import clear_output\n",
    "import warnings\n",
    "warnings.filterwarnings('ignore')"
   ]
  },
  {
   "cell_type": "code",
   "execution_count": 24,
   "metadata": {},
   "outputs": [
    {
     "data": {
      "text/plain": [
       "4964"
      ]
     },
     "execution_count": 24,
     "metadata": {},
     "output_type": "execute_result"
    }
   ],
   "source": [
    "pgcc_data=fits.open('/Users/codydirks/PGCC/HFI_PCCS_GCC_R2.02.fits')[1].data\n",
    "\n",
    "# Only selects PGCCs with a known distance (ignores those with just upper limits)\n",
    "pgcc_data=pgcc_data[np.where(pgcc_data['dist']>0)]\n",
    "len(pgcc_data)"
   ]
  },
  {
   "cell_type": "code",
   "execution_count": 27,
   "metadata": {},
   "outputs": [],
   "source": [
    "# Selects all Gaia targets in a circle centered on each PGCC\n",
    "# Circle size is given by the GAU_MAJOR_AXIS of the PGCC fit,\n",
    "# thus over selecting targets\n",
    "\n",
    "pgcc_x_gaia=[]\n",
    "for pgcc in pgcc_data[0:2]:\n",
    "    query=' '.join([\n",
    "                'SELECT *',\n",
    "               'FROM gaiadr2.gaia_source',\n",
    "               'WHERE 1=CONTAINS(POINT(\\'ICRS\\', ra, dec),',\n",
    "                                'CIRCLE(\\'ICRS\\', {0},{1},{2}))'.format(pgcc['ra'],pgcc['dec'],pgcc['gau_major_axis']/60.)\n",
    "                ])\n",
    "    results=Gaia.launch_job_async(query).get_results()\n",
    "    pgcc_x_gaia.append((pgcc,results))\n",
    "    clear_output()"
   ]
  },
  {
   "cell_type": "code",
   "execution_count": 28,
   "metadata": {},
   "outputs": [
    {
     "name": "stdout",
     "output_type": "stream",
     "text": [
      "211\n",
      "98\n"
     ]
    }
   ],
   "source": [
    "for result in pgcc_x_gaia:\n",
    "    pgcc=result[0]\n",
    "    gaia=result[1]\n",
    "    pgcc_dist=round(1000.*pgcc['dist'],2)\n",
    "    i=0\n",
    "    for row in gaia:\n",
    "        if 1000./row['parallax'] > pgcc_dist:\n",
    "            i=i+1\n",
    "    print i"
   ]
  },
  {
   "cell_type": "code",
   "execution_count": null,
   "metadata": {},
   "outputs": [],
   "source": []
  }
 ],
 "metadata": {
  "kernelspec": {
   "display_name": "Python 2",
   "language": "python",
   "name": "python2"
  },
  "language_info": {
   "codemirror_mode": {
    "name": "ipython",
    "version": 2
   },
   "file_extension": ".py",
   "mimetype": "text/x-python",
   "name": "python",
   "nbconvert_exporter": "python",
   "pygments_lexer": "ipython2",
   "version": "2.7.14"
  }
 },
 "nbformat": 4,
 "nbformat_minor": 2
}
