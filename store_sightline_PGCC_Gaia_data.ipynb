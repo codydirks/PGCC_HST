{
 "cells": [
  {
   "cell_type": "code",
   "execution_count": 1,
   "metadata": {
    "collapsed": false
   },
   "outputs": [],
   "source": [
    "import os\n",
    "import pickle\n",
    "import numpy as np\n",
    "from queries import Simbad\n",
    "from astropy.io import fits\n",
    "from astropy.coordinates import SkyCoord\n",
    "from IPython.display import clear_output\n",
    "\n",
    "top_path='/DataDisk/datafiles/PGCC_HST/'\n",
    "\n",
    "def find_in_tgas(key,field):\n",
    "    filenames=[top_path+'gaia_data/TgasSource_000-000-0'+'{:02}'.format(i)+'.fits' for i in range(16)]\n",
    "    for filename in filenames:\n",
    "        gaia_data=fits.open(filename)[1].data\n",
    "        #gaia_entry=gaia_data[gaia_data[field]==key]\n",
    "        gaia_entry=[i for i,item in enumerate(gaia_data[field]==key) if item==True]\n",
    "        if len(gaia_entry)>0:\n",
    "            return filenames.index(filename),gaia_entry[0]\n",
    "    return None\n",
    "        \n",
    "#Returns angular separation between two Ra/Dec coordinates in degrees\n",
    "def get_ang_sep(ra1,dec1,ra2,dec2):\n",
    "    ra1_rad=ra1*np.pi/180.\n",
    "    dec1_rad=dec1*np.pi/180.\n",
    "    ra2_rad=ra2*np.pi/180.\n",
    "    dec2_rad=dec2*np.pi/180.\n",
    "\n",
    "    del_ra=ra2_rad-ra1_rad\n",
    "    del_ras=np.sin(del_ra)\n",
    "    del_rac=np.cos(del_ra)\n",
    "    dec1s=np.sin(dec1_rad)\n",
    "    dec2s=np.sin(dec2_rad)\n",
    "    dec1c=np.cos(dec1_rad)\n",
    "    dec2c=np.cos(dec2_rad)\n",
    "    result=(180./np.pi)*np.arctan(np.sqrt((dec2c**2)*(del_ras**2)+(dec1c*dec2s-dec1s*dec2c*del_rac)**2)/(dec1s*dec2s+dec1c*dec2c*del_rac))\n",
    "    if result < 0:\n",
    "        return result+180.\n",
    "    else:\n",
    "        return result\n",
    "    \n",
    "    \n",
    "    \n",
    "def store_results(results):\n",
    "    filename='sightline_pgcc_gaia_results.txt'\n",
    "    with open(filename,'w') as myfile:\n",
    "        for entry in results:\n",
    "            myfile.write('|'.join([entry[0],\n",
    "                                   str(entry[1][0].value)+' '+str(entry[1][1].value),\n",
    "                                   str(entry[2]),\n",
    "                                   str(entry[3]),\n",
    "                                   '\\n']))\n",
    "        "
   ]
  },
  {
   "cell_type": "code",
   "execution_count": 17,
   "metadata": {
    "collapsed": false
   },
   "outputs": [],
   "source": [
    "x1d_path=top_path+'x1d_files/'\n",
    "sightlines=[x for x in os.listdir(x1d_path) \n",
    "            if os.path.isdir(x1d_path+x+'/E140H')==True and x.startswith('.')==False]\n",
    "\n",
    "pgcc_data=fits.open(top_path+'HFI_PCCS_GCC_R2.02.fits')[1].data"
   ]
  },
  {
   "cell_type": "code",
   "execution_count": 18,
   "metadata": {
    "collapsed": false,
    "scrolled": false
   },
   "outputs": [
    {
     "name": "stdout",
     "output_type": "stream",
     "text": [
      "94 / 94\n"
     ]
    }
   ],
   "source": [
    "sightline_pgcc_gaia_data=[]\n",
    "\n",
    "for sightline in sightlines:\n",
    "    clear_output()\n",
    "    print sightlines.index(sightline)+1, '/', len(sightlines)\n",
    "    coords=Simbad.Position(sightline)\n",
    "    nearest=9999\n",
    "    nearest_pgcc=[]\n",
    "    for i in range(len(pgcc_data)):\n",
    "        pgcc_ra,pgcc_dec=pgcc_data[i][3:5]\n",
    "        if abs(coords[0].value-pgcc_ra)<10 and abs(coords[1].value-pgcc_dec)<10:\n",
    "            angsep=get_ang_sep(coords[0].value,coords[1].value,pgcc_ra,pgcc_dec)\n",
    "            if angsep<nearest:\n",
    "                nearest=angsep\n",
    "                nearest_pgcc=i\n",
    "    \n",
    "    \n",
    "    idlist=Simbad.IDList(sightline)\n",
    "    hip=[x for x in idlist if x.startswith('HIP')]\n",
    "    tyc=[x for x in idlist if x.startswith('TYC')]\n",
    "    if len(hip)>0 or len(tyc)>0:\n",
    "        if len(hip)>0:\n",
    "            hip_id=int(hip[0].split()[1])\n",
    "            gaia_entry=find_in_tgas(hip_id,'hip')\n",
    "        elif len(tyc)>0:\n",
    "            tyc_id=tyc[0].split()[1]\n",
    "            gaia_entry=find_in_tgas(tyc_id,'tycho2_id')\n",
    "    \n",
    "    sightline_pgcc_gaia_data.append([sightline,coords,nearest_pgcc,gaia_entry])\n"
   ]
  },
  {
   "cell_type": "code",
   "execution_count": 19,
   "metadata": {
    "collapsed": false
   },
   "outputs": [],
   "source": [
    "store_results(sightline_pgcc_gaia_data)"
   ]
  },
  {
   "cell_type": "code",
   "execution_count": null,
   "metadata": {
    "collapsed": true
   },
   "outputs": [],
   "source": []
  }
 ],
 "metadata": {
  "anaconda-cloud": {},
  "kernelspec": {
   "display_name": "Python 2",
   "language": "python",
   "name": "python2"
  },
  "language_info": {
   "codemirror_mode": {
    "name": "ipython",
    "version": 2
   },
   "file_extension": ".py",
   "mimetype": "text/x-python",
   "name": "python",
   "nbconvert_exporter": "python",
   "pygments_lexer": "ipython2",
   "version": "2.7.10"
  }
 },
 "nbformat": 4,
 "nbformat_minor": 0
}
