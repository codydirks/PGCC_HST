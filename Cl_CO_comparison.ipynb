{
 "cells": [
  {
   "cell_type": "code",
   "execution_count": 2,
   "metadata": {
    "collapsed": false
   },
   "outputs": [
    {
     "name": "stderr",
     "output_type": "stream",
     "text": [
      "/home/cody/python/lib/python2.7/site-packages/matplotlib/style/core.py:53: UserWarning: Style includes a parameter, 'toolbar', that is not related to style.  Ignoring\n",
      "  \"to style.  Ignoring\".format(key))\n"
     ]
    }
   ],
   "source": [
    "import os\n",
    "import string\n",
    "import numpy as np\n",
    "from astropy.io import fits\n",
    "import matplotlib.pyplot as plt\n",
    "from matplotlib.backends.backend_pdf import PdfPages\n",
    "%matplotlib inline\n",
    "plt.style.use('sm')"
   ]
  },
  {
   "cell_type": "code",
   "execution_count": 3,
   "metadata": {
    "collapsed": false
   },
   "outputs": [],
   "source": [
    "def specplot(x1ds,lines):\n",
    "    # If len(hdulist) > 2, multiple iterations of the same exposure were taken.\n",
    "    # These have slightly different wavelength values, so to sum them correctly requires iterpolation onto the same\n",
    "    # wavelength grid.\n",
    "    # For now, just take the first of these iterations.\n",
    "    #if len(hdulist)>2: \n",
    "    #    for ext in hdulist[2:]:\n",
    "    #        flx=flx+ext.data[order]['flux'][4:-7]\n",
    "\n",
    "    order=-1\n",
    "    wav=[]\n",
    "    flx=[]\n",
    "    vel=[]\n",
    "    for line in lines:\n",
    "        for x1d in x1ds:\n",
    "            hdulist=fits.open(x1d)\n",
    "            minwave=hdulist[0].header['minwave']\n",
    "            maxwave=hdulist[0].header['maxwave']\n",
    "            scidata=hdulist[1].data\n",
    "            if (minwave < line < maxwave):\n",
    "                for i in range(len(scidata)):\n",
    "                    if (scidata[i]['wavelength'][0] < line < scidata[i]['wavelength'][-1]):\n",
    "                        order=i\n",
    "                if order>=0:\n",
    "                    wav=scidata[order]['wavelength'][4:-7]\n",
    "                    vel=c*(wav-line)/line\n",
    "                    flx=scidata[order]['flux'][4:-7]*float('1e12')\n",
    "                    return line,wav,vel,flx\n",
    "    return line,wav,vel,flx"
   ]
  },
  {
   "cell_type": "code",
   "execution_count": 7,
   "metadata": {
    "collapsed": false
   },
   "outputs": [],
   "source": [
    "path='/DataDisk/datafiles/PGCC_HST/x1d_files/'\n",
    "c=float('3e5')\n",
    "c_lines=[1280.1353,1328.833,1656.9283]\n",
    "cl_lines=[1347.2396]\n",
    "o_lines=[1355.5977]\n",
    "co_lines=[1544.448,1509.748,1477.565,1447.352,1419.044,1392.525,1367.623,1344.186,1322.15,1301.403,1281.866,1263.433,1246.059]\n",
    "sightlines=[x for x in os.listdir(path) if (os.path.isdir(path+x+'/E140H') and x.startswith('.')==False)]\n",
    "al=string.maketrans('','')\n",
    "nodigs=al.translate(al,string.digits)\n",
    "sightlines.sort(key=lambda x: (len(x), int(x.translate(al,nodigs))))\n",
    "#sightlines.sort(key=lambda x: len([path+x+'/E140H/'+y for y in os.listdir(path+x+'/E140H') if y.endswith('.fits')]))\n"
   ]
  },
  {
   "cell_type": "code",
   "execution_count": 8,
   "metadata": {
    "collapsed": false,
    "scrolled": false
   },
   "outputs": [],
   "source": [
    "pdf=PdfPages('spectral_comparison2.pdf')\n",
    "for sightline in sightlines:\n",
    "\n",
    "    fig,(subplt1,subplt2,subplt3,subplt4)=plt.subplots(4,1,sharex=True)\n",
    "    fig.set_size_inches(15,10)\n",
    "    fig.text(0.05,0.5,'Flux ($\\\\times 10^{-12}$ ergs (cm$^{2}$ s \\\\AA)$^{-1}$)',rotation=90,fontsize=25,verticalalignment='center')\n",
    "    subplt4.set_xlabel('Heliocentric Velocity (km s$^{-1}$)')\n",
    "    subplt1.text(1.0,1.02,sightline,transform=subplt1.transAxes,fontsize=30,horizontalalignment='right')\n",
    "    \n",
    "    x1ds=[path+sightline+'/E140H/'+x for x in os.listdir(path+sightline+'/E140H') if x.endswith('.fits')]\n",
    "    x1ds.sort(key=lambda x: fits.open(x)[0].header['maxwave'])\n",
    "        \n",
    "        \n",
    "    c_line,wav,vel,flx=specplot(x1ds,c_lines)\n",
    "    subplt1.text(1.01,0.5, 'C I\\n'+str(int(c_line)),transform=subplt1.transAxes,fontsize=30,verticalalignment='center')\n",
    "    if len(flx)>0:\n",
    "        subplt1.plot(vel,flx,'k-',lw=1)\n",
    "        subplt1.set_ylim(-0.05*max(flx),1.1*max(flx))\n",
    "        subplt1.set_xlim(-200,200)\n",
    "        subplt1.xaxis.set_ticks_position('none')\n",
    "        subplt1.axhline(0,0,1, linestyle='--')\n",
    "        \n",
    "\n",
    "    cl_line,wav,vel,flx=specplot(x1ds,cl_lines)\n",
    "    subplt2.text(1.01,0.5, 'Cl I\\n'+str(int(cl_line)),transform=subplt2.transAxes,fontsize=30,verticalalignment='center')\n",
    "    if len(flx)>0:\n",
    "        subplt2.plot(vel,flx,'k-',lw=1)\n",
    "        subplt2.set_ylim(-0.05*max(flx),1.1*max(flx))\n",
    "        subplt2.set_xlim(-200,200)\n",
    "        subplt2.xaxis.set_ticks_position('none')\n",
    "        subplt2.axhline(0,0,1, linestyle='--')\n",
    "        \n",
    "        \n",
    "    o_line,wav,vel,flx=specplot(x1ds,o_lines)\n",
    "    subplt3.text(1.01,0.5, 'O I\\n'+str(int(o_line)),transform=subplt3.transAxes,fontsize=30,verticalalignment='center')\n",
    "    if len(flx)>0:\n",
    "        subplt3.plot(vel,flx,'k-',lw=1)\n",
    "        subplt3.set_ylim(-0.05*max(flx),1.1*max(flx))\n",
    "        subplt3.set_xlim(-200,200)\n",
    "        subplt3.xaxis.set_ticks_position('none')\n",
    "        subplt3.axhline(0,0,1, linestyle='--')\n",
    "    \n",
    "        \n",
    "    x1ds.reverse()\n",
    "    co_line,wav,vel,flx=specplot(x1ds,co_lines)\n",
    "    subplt4.text(1.01,0.5, 'CO\\n'+str(int(co_line)),transform=subplt4.transAxes,fontsize=30,verticalalignment='center')\n",
    "    if len(flx)>0:\n",
    "        subplt4.plot(vel,flx,'k-',lw=1)\n",
    "        subplt4.set_ylim(-0.05*max(flx),1.1*max(flx))\n",
    "        subplt4.set_xlim(-200,200)\n",
    "        subplt4.axhline(0,0,1, linestyle='--')\n",
    "        \n",
    "            \n",
    "    pdf.savefig()\n",
    "    plt.clf()\n",
    "    plt.close()\n",
    "pdf.close()"
   ]
  },
  {
   "cell_type": "code",
   "execution_count": null,
   "metadata": {
    "collapsed": true
   },
   "outputs": [],
   "source": []
  }
 ],
 "metadata": {
  "kernelspec": {
   "display_name": "Python 2",
   "language": "python",
   "name": "python2"
  },
  "language_info": {
   "codemirror_mode": {
    "name": "ipython",
    "version": 2
   },
   "file_extension": ".py",
   "mimetype": "text/x-python",
   "name": "python",
   "nbconvert_exporter": "python",
   "pygments_lexer": "ipython2",
   "version": "2.7.10"
  }
 },
 "nbformat": 4,
 "nbformat_minor": 2
}
