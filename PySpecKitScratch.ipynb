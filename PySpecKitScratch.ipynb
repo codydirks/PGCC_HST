{
 "cells": [
  {
   "cell_type": "code",
   "execution_count": 56,
   "metadata": {
    "collapsed": true
   },
   "outputs": [],
   "source": [
    "import numpy as np\n",
    "import pyspeckit\n",
    "from scipy.special import wofz\n",
    "import matplotlib.pyplot as plt\n",
    "\n",
    "\n",
    "def Voigt(x,alpha,gamma):\n",
    "    \"\"\"\n",
    "    Returns the Voigt line shape at x with Lorentzian component HWHM gamma\n",
    "    and Gaussian component HWHM alpha\n",
    "    \"\"\"\n",
    "    sigma=alpha/np.sqrt(2*np.log(2))\n",
    "    return np.real(wofz((x+1j*gamma)/sigma/np.sqrt(2)))/sigma/np.sqrt(2*np.pi)"
   ]
  },
  {
   "cell_type": "code",
   "execution_count": 107,
   "metadata": {},
   "outputs": [
    {
     "name": "stdout",
     "output_type": "stream",
     "text": [
      "INFO: Left region selection unchanged.  xminpix, xmaxpix: 0,76 [pyspeckit.spectrum.interactive]\n"
     ]
    },
    {
     "ename": "AttributeError",
     "evalue": "'NoneType' object has no attribute 'plot'",
     "output_type": "error",
     "traceback": [
      "\u001b[0;31m---------------------------------------------------------------------------\u001b[0m",
      "\u001b[0;31mAttributeError\u001b[0m                            Traceback (most recent call last)",
      "\u001b[0;32m<ipython-input-107-f8d4cad7d69e>\u001b[0m in \u001b[0;36m<module>\u001b[0;34m()\u001b[0m\n\u001b[1;32m     30\u001b[0m \u001b[0;31m#sp.specfit(fittype='gaussian', guesses=guesses)\u001b[0m\u001b[0;34m\u001b[0m\u001b[0;34m\u001b[0m\u001b[0m\n\u001b[1;32m     31\u001b[0m \u001b[0;34m\u001b[0m\u001b[0m\n\u001b[0;32m---> 32\u001b[0;31m \u001b[0msp\u001b[0m\u001b[0;34m.\u001b[0m\u001b[0mspecfit\u001b[0m\u001b[0;34m.\u001b[0m\u001b[0mplot_fit\u001b[0m\u001b[0;34m(\u001b[0m\u001b[0;34m)\u001b[0m\u001b[0;34m\u001b[0m\u001b[0m\n\u001b[0m",
      "\u001b[0;32m/Users/codydirks/anaconda2/envs/astroconda/lib/python2.7/site-packages/pyspeckit/spectrum/fitters.pyc\u001b[0m in \u001b[0;36mplot_fit\u001b[0;34m(self, xarr, annotate, show_components, composite_fit_color, lw, composite_lw, pars, offset, use_window_limits, show_hyperfine_components, plotkwargs, **kwargs)\u001b[0m\n\u001b[1;32m   1085\u001b[0m             \u001b[0mmodel\u001b[0m \u001b[0;34m=\u001b[0m \u001b[0mself\u001b[0m\u001b[0;34m.\u001b[0m\u001b[0mfullmodel\u001b[0m\u001b[0;34m\u001b[0m\u001b[0m\n\u001b[1;32m   1086\u001b[0m \u001b[0;34m\u001b[0m\u001b[0m\n\u001b[0;32m-> 1087\u001b[0;31m         self.modelplot += self.Spectrum.plotter.axis.plot(xarr,\n\u001b[0m\u001b[1;32m   1088\u001b[0m                                                           \u001b[0mmodel\u001b[0m \u001b[0;34m+\u001b[0m \u001b[0mplot_offset\u001b[0m\u001b[0;34m,\u001b[0m\u001b[0;34m\u001b[0m\u001b[0m\n\u001b[1;32m   1089\u001b[0m                                                           \u001b[0mcolor\u001b[0m\u001b[0;34m=\u001b[0m\u001b[0mcomposite_fit_color\u001b[0m\u001b[0;34m,\u001b[0m\u001b[0;34m\u001b[0m\u001b[0m\n",
      "\u001b[0;31mAttributeError\u001b[0m: 'NoneType' object has no attribute 'plot'"
     ]
    }
   ],
   "source": [
    "R=114000.\n",
    "xaxis = np.arange(-50,150,300000./R)\n",
    "b = 3.\n",
    "center = 50.\n",
    "synth_data = np.array([1]*len(xaxis))*np.exp(-10*Voigt(xaxis-cen,b/np.log(2),0.0))\n",
    "\n",
    "# Add noise\n",
    "stddev = 0.02\n",
    "noise = np.random.randn(xaxis.size)*stddev\n",
    "#error = stddev*np.ones_like(synth_data)\n",
    "data = noise+synth_data\n",
    "\n",
    "# this will give a \"blank header\" warning, which is fine\n",
    "sp = pyspeckit.Spectrum(data=data, xarr=xaxis,\n",
    "                        xarrkwargs={'unit':'km/s'},\n",
    "                        unit='Relative Intensity')\n",
    "\n",
    "sp.baseline.set_basespec_frompars(baselinepars=[1])\n",
    "\n",
    "# Fit with automatic guesses\n",
    "sp.specfit(fittype='gaussian')\n",
    "\n",
    "# Fit with input guesses\n",
    "# The guesses initialize the fitter\n",
    "# This approach uses the 0th, 1st, and 2nd moments\n",
    "amplitude_guess = 1.0-data.min()\n",
    "center_guess = (data*xaxis).sum()/data.sum()\n",
    "width_guess = data.sum() / amplitude_guess / np.sqrt(2*np.pi)\n",
    "guesses = [amplitude_guess, center_guess, width_guess]\n",
    "#sp.specfit(fittype='gaussian', guesses=guesses)\n",
    "\n",
    "sp.specfit.plot_fit()"
   ]
  },
  {
   "cell_type": "code",
   "execution_count": 93,
   "metadata": {},
   "outputs": [
    {
     "ename": "TypeError",
     "evalue": "__init__() takes exactly 2 arguments (1 given)",
     "output_type": "error",
     "traceback": [
      "\u001b[0;31m---------------------------------------------------------------------------\u001b[0m",
      "\u001b[0;31mTypeError\u001b[0m                                 Traceback (most recent call last)",
      "\u001b[0;32m<ipython-input-93-a5e7b8917379>\u001b[0m in \u001b[0;36m<module>\u001b[0;34m()\u001b[0m\n\u001b[0;32m----> 1\u001b[0;31m \u001b[0mpyspeckit\u001b[0m\u001b[0;34m.\u001b[0m\u001b[0mbaseline\u001b[0m\u001b[0;34m.\u001b[0m\u001b[0mBaseline\u001b[0m\u001b[0;34m(\u001b[0m\u001b[0;34m)\u001b[0m\u001b[0;34m\u001b[0m\u001b[0m\n\u001b[0m",
      "\u001b[0;31mTypeError\u001b[0m: __init__() takes exactly 2 arguments (1 given)"
     ]
    }
   ],
   "source": [
    "pyspeckit.baseline.Baseline()"
   ]
  },
  {
   "cell_type": "code",
   "execution_count": null,
   "metadata": {
    "collapsed": true
   },
   "outputs": [],
   "source": []
  }
 ],
 "metadata": {
  "kernelspec": {
   "display_name": "Python 2",
   "language": "python",
   "name": "python2"
  },
  "language_info": {
   "codemirror_mode": {
    "name": "ipython",
    "version": 2
   },
   "file_extension": ".py",
   "mimetype": "text/x-python",
   "name": "python",
   "nbconvert_exporter": "python",
   "pygments_lexer": "ipython2",
   "version": "2.7.12"
  }
 },
 "nbformat": 4,
 "nbformat_minor": 2
}
