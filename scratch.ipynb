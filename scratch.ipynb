{
 "cells": [
  {
   "cell_type": "code",
   "execution_count": 45,
   "metadata": {
    "collapsed": true
   },
   "outputs": [],
   "source": [
    "import os\n",
    "import csv\n",
    "from astropy.io import fits\n",
    "import numpy as np\n",
    "from queries import Simbad\n",
    "import matplotlib.pyplot as plt\n",
    "\n",
    "import sys\n",
    "if sys.platform=='darwin':\n",
    "    top_path='/Users/codydirks/PGCC/'\n",
    "else:\n",
    "    top_path='/DataDisk/datafiles/PGCC_HST/'\n",
    "\n",
    "x1d_dir=top_path+'x1d_files/'"
   ]
  },
  {
   "cell_type": "code",
   "execution_count": 2,
   "metadata": {
    "collapsed": true
   },
   "outputs": [],
   "source": [
    "# Returns the velocity shift necessary to convert Helio to LSR\n",
    "# i.e. returns (V_lsr - V_helio)\n",
    "def HelioToLSR(target_ra_deg, target_dec_deg):\n",
    "    Vsun=19.7\n",
    "    a0=271.0*np.pi/180.\n",
    "    d0=30.0*np.pi/180.\n",
    "    a=target_ra_deg*np.pi/180.\n",
    "    d=target_dec_deg*np.pi/180.\n",
    "    #shift=Vsun*(np.cos(a-a0)*np.cos(a0)*np.cos(a)+np.sin(d0)*np.sin(d))\n",
    "    shift=Vsun*(np.cos(a0)*np.cos(d0)*np.cos(a)*np.cos(d)\n",
    "                +np.sin(a0)*np.cos(d0)*np.sin(a)*np.cos(d)\n",
    "                +np.sin(d0)*np.sin(d))\n",
    "    return shift"
   ]
  },
  {
   "cell_type": "code",
   "execution_count": null,
   "metadata": {
    "collapsed": true
   },
   "outputs": [],
   "source": []
  },
  {
   "cell_type": "code",
   "execution_count": 19,
   "metadata": {
    "collapsed": false
   },
   "outputs": [
    {
     "name": "stdout",
     "output_type": "stream",
     "text": [
      "3.92195306121\n"
     ]
    }
   ],
   "source": [
    "star='HD232522'\n",
    "del_v=HelioToLSR(Simbad.Position(star)[0].value,Simbad.Position(star)[1].value)\n",
    "print del_v"
   ]
  },
  {
   "cell_type": "code",
   "execution_count": 20,
   "metadata": {
    "collapsed": false
   },
   "outputs": [
    {
     "name": "stdout",
     "output_type": "stream",
     "text": [
      "-12.9280469388\n",
      "-4.65804693879\n",
      "-0.958046938795\n"
     ]
    }
   ],
   "source": [
    "lsr_comps=[5.0,6.1,11.8]\n",
    "helio_comps=[-16.85,-8.58,-4.88]\n",
    "for comp in helio_comps:\n",
    "    print comp+del_v"
   ]
  },
  {
   "cell_type": "code",
   "execution_count": 50,
   "metadata": {
    "collapsed": false,
    "scrolled": false
   },
   "outputs": [
    {
     "name": "stdout",
     "output_type": "stream",
     "text": [
      "HD13841\n",
      "CO 1344 ('0.800', '-13.735')\n",
      "-----------------------------\n",
      "OI 1355 ('0.800', '-14.320')\n",
      "OI 1355 ('2.000', '-43.861')\n",
      "OI 1355 ('2.000', '-5.149')\n",
      "OI 1355 ('2.000', '-58.081')\n",
      "OI 1355 ('1.000', '-67.783')\n",
      "\n",
      "\n",
      "HD23180\n",
      "CO 1509 ('0.800', '11.546')\n",
      "CO 1509 ('1.000', '14.716')\n",
      "-----------------------------\n",
      "OI 1355 ('0.800', '11.076')\n",
      "OI 1355 ('1.000', '14.444')\n",
      "\n",
      "\n",
      "HD23478\n",
      "CO 1344 ('1.000', '10.995')\n",
      "CO 1344 ('0.900', '14.705')\n",
      "-----------------------------\n",
      "OI 1355 ('0.852', '10.950')\n",
      "OI 1355 ('1.234', '14.334')\n",
      "\n",
      "\n",
      "HD24398\n",
      "CO 1344 ('0.800', '14.047')\n",
      "CO 1509 ('0.800', '14.400')\n",
      "CO 1447 ('0.800', '14.349')\n",
      "CO 1392 ('0.800', '14.065')\n",
      "-----------------------------\n",
      "OI 1355 ('1.723', '14.129')\n",
      "\n",
      "\n",
      "HD24534\n",
      "CO 1263 ('0.200', '15.285')\n",
      "CO 1281 ('0.200', '14.226')\n",
      "CO 1281 ('0.200', '14.227')\n",
      "CO 1301 ('0.200', '15.256')\n",
      "-----------------------------\n",
      "\n",
      "\n",
      "HD25443\n",
      "CO 1344 ('2.000', '-1.279')\n",
      "CO 1344 ('0.500', '4.237')\n",
      "-----------------------------\n",
      "\n",
      "\n",
      "HD43582\n",
      "CO 1392 ('2.300', '7.300')\n",
      "CO 1367 ('1.500', '14.405')\n",
      "CO 1367 ('1.500', '7.269')\n",
      "-----------------------------\n",
      "\n",
      "\n",
      "HD72350\n",
      "CO 1344 ('1.000', '20.238')\n",
      "CO 1322 ('1.000', '20.580')\n",
      "CO 1322 ('1.000', '31.338')\n",
      "-----------------------------\n",
      "\n",
      "\n",
      "HD108927\n",
      "CO 1344 ('1.500', '10.852')\n",
      "CO 1281 ('0.600', '10.153')\n",
      "CO 1301 ('0.600', '10.868')\n",
      "-----------------------------\n",
      "\n",
      "\n",
      "HD112999\n",
      "CO 1344 ('1.500', '6.660')\n",
      "-----------------------------\n",
      "OI 1355 ('3.484', '0.614')\n",
      "OI 1355 ('1.567', '6.755')\n",
      "\n",
      "\n",
      "HD124314\n",
      "CO 1544 ('1.500', '-19.300')\n",
      "CO 1544 ('0.800', '2.200')\n",
      "-----------------------------\n",
      "OI 1355 ('3.775', '-19.300')\n",
      "OI 1355 ('2.578', '-8.925')\n",
      "OI 1355 ('5.118', '2.200')\n",
      "\n",
      "\n",
      "HD147683\n",
      "CO 1322 ('0.600', '-1.329')\n",
      "CO 1263 ('0.600', '-0.994')\n",
      "CO 1544 ('0.600', '-0.948')\n",
      "-----------------------------\n",
      "OI 1355 ('2.218', '-1.796')\n",
      "OI 1355 ('4.753', '4.056')\n",
      "\n",
      "\n",
      "HD148594\n",
      "CO 1344 ('1.500', '-3.426')\n",
      "-----------------------------\n",
      "\n",
      "\n",
      "HD148937\n",
      "CO 1344 ('1.200', '-14.014')\n",
      "CO 1344 ('1.200', '-16.978')\n",
      "CO 1544 ('1.200', '-13.207')\n",
      "CO 1544 ('1.200', '-16.560')\n",
      "-----------------------------\n",
      "\n",
      "\n",
      "HD165918\n",
      "CO 1447 ('1.300', '-6.910')\n",
      "CO 1419 ('1.300', '-6.475')\n",
      "-----------------------------\n",
      "\n",
      "\n",
      "HD185418\n",
      "CO 1344 ('0.700', '-11.050')\n",
      "CO 1344 ('0.300', '-6.850')\n",
      "-----------------------------\n",
      "OI 1355 ('3.344', '-10.730')\n",
      "OI 1355 ('3.403', '-7.105')\n",
      "\n",
      "\n",
      "HD208947\n",
      "CO 1344 ('1.400', '-14.300')\n",
      "-----------------------------\n",
      "\n",
      "\n",
      "HD210839\n",
      "CO 1344 ('1.200', '-14.214')\n",
      "CO 1263 ('1.200', '-14.592')\n",
      "CO 1281 ('1.200', '-14.806')\n",
      "CO 1281 ('1.200', '-14.807')\n",
      "-----------------------------\n",
      "\n",
      "\n",
      "HD232522\n",
      "CO 1509 ('1.800', '-17.065')\n",
      "CO 1509 ('3.300', '-7.677')\n",
      "CO 1447 ('1.300', '-17.111')\n",
      "CO 1447 ('0.800', '-5.606')\n",
      "CO 1447 ('1.500', '-8.758')\n",
      "-----------------------------\n",
      "\n",
      "\n",
      "HD254755\n",
      "CO 1392 ('1.300', '6.540')\n",
      "-----------------------------\n",
      "\n",
      "\n"
     ]
    }
   ],
   "source": [
    "with open('primary_sightlines.csv','rb') as csvfile:\n",
    "    inp=csv.reader(csvfile)\n",
    "    primary_sightlines=inp.next()\n",
    "    \n",
    "primary_sightlines.sort(key=lambda x: (len(x),int(x[2:])))\n",
    "\n",
    "for folder in primary_sightlines:\n",
    "    print folder\n",
    "    cos=[x for x in os.listdir(x1d_dir+folder+'/E140H') if x.startswith('co') and x.endswith('.par')]\n",
    "    oIs=[y for y in os.listdir(x1d_dir+folder+'/E140H') if y.startswith('oI') and y.endswith('.par')]\n",
    "    for co in cos:\n",
    "        bvs=list(set([tuple(z.split()[2:4]) for z in open(x1d_dir+folder+'/E140H/'+co).read().strip().split('\\n')[1:]]))\n",
    "        bvs.sort(key=lambda x:x[1])\n",
    "        for a in bvs:\n",
    "            print 'CO',co.split('_')[1],a\n",
    "    print '-----------------------------'\n",
    "    for o in oIs:\n",
    "        bvs=list(set([tuple(x.split()[2:4]) for x in open(x1d_dir+folder+'/E140H/'+o).read().strip().split('\\n')[1:]]))\n",
    "        bvs.sort(key=lambda x:x[1])\n",
    "        for a in bvs:\n",
    "            print 'OI',o.split('_')[1],a\n",
    "    print\n",
    "    print\n",
    "    "
   ]
  },
  {
   "cell_type": "code",
   "execution_count": null,
   "metadata": {
    "collapsed": true
   },
   "outputs": [],
   "source": []
  }
 ],
 "metadata": {
  "kernelspec": {
   "display_name": "Python 2",
   "language": "python",
   "name": "python2"
  },
  "language_info": {
   "codemirror_mode": {
    "name": "ipython",
    "version": 2
   },
   "file_extension": ".py",
   "mimetype": "text/x-python",
   "name": "python",
   "nbconvert_exporter": "python",
   "pygments_lexer": "ipython2",
   "version": "2.7.10"
  }
 },
 "nbformat": 4,
 "nbformat_minor": 2
}
