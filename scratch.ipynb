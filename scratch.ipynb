{
 "cells": [
  {
   "cell_type": "code",
   "execution_count": 2,
   "metadata": {
    "collapsed": true
   },
   "outputs": [],
   "source": [
    "import os\n",
    "from astropy.io import fits\n",
    "\n",
    "import sys\n",
    "if sys.platform=='darwin':\n",
    "    top_path='/Users/codydirks/PGCC/'\n",
    "else:\n",
    "    top_path='/DataDisk/datafiles/PGCC_HST/'\n",
    "\n",
    "x1d_dir=top_path+'x1d_files/'"
   ]
  },
  {
   "cell_type": "code",
   "execution_count": 5,
   "metadata": {
    "collapsed": false
   },
   "outputs": [],
   "source": [
    "folders=[x for x in os.listdir(x1d_dir) if os.path.isdir(x1d_dir+x+'/E140H') and x.startswith('.')==False]"
   ]
  },
  {
   "cell_type": "code",
   "execution_count": 43,
   "metadata": {
    "collapsed": false,
    "scrolled": false
   },
   "outputs": [],
   "source": [
    "co_lines=[1544.448,1509.748,1477.565,1447.352,1419.044,1392.525,1367.623,1344.186,1322.15,1301.403,1281.866,1263.433,1246.059]\n",
    "for folder in folders:\n",
    "    pre_existing_dat=False\n",
    "    datfiles=[x for x in os.listdir(x1d_dir+folder+'/E140H/') if x.endswith('.dat')]\n",
    "    datasets=[x for x in os.listdir(x1d_dir+folder+'/E140H/') if x.endswith('.fits')]\n",
    "    for dat in datfiles:\n",
    "        wav=float(dat.strip('.dat').split('_')[1])\n",
    "        if wav in co_lines:\n",
    "            pre_existing_dat=True\n",
    "    if pre_existing_dat==False:\n",
    "        maxline=0.\n",
    "        print folder,'  ',\n",
    "        for co_line in co_lines:\n",
    "            for dataset in datasets:\n",
    "                hdulist=fits.open(x1d_dir+folder+'/E140H/'+dataset)\n",
    "                minwave=hdulist[0].header['minwave']\n",
    "                maxwave=hdulist[0].header['maxwave']\n",
    "                if minwave<co_line<maxwave and co_line > maxline:\n",
    "                    maxline=co_line\n",
    "        print maxline,'  ',\n",
    "        for dataset in datasets:\n",
    "            hdulist=fits.open(x1d_dir+folder+'/E140H/'+dataset)\n",
    "            minwave=hdulist[0].header['minwave']\n",
    "            maxwave=hdulist[0].header['maxwave'] \n",
    "            if minwave < maxline < maxwave:\n",
    "                print dataset.split('_')[0],',',\n",
    "        print\n",
    "        print"
   ]
  },
  {
   "cell_type": "code",
   "execution_count": null,
   "metadata": {
    "collapsed": true
   },
   "outputs": [],
   "source": []
  }
 ],
 "metadata": {
  "kernelspec": {
   "display_name": "Python 2",
   "language": "python",
   "name": "python2"
  },
  "language_info": {
   "codemirror_mode": {
    "name": "ipython",
    "version": 2
   },
   "file_extension": ".py",
   "mimetype": "text/x-python",
   "name": "python",
   "nbconvert_exporter": "python",
   "pygments_lexer": "ipython2",
   "version": "2.7.10"
  }
 },
 "nbformat": 4,
 "nbformat_minor": 2
}
